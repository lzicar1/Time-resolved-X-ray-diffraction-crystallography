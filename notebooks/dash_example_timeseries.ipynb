{
 "cells": [
  {
   "cell_type": "code",
   "execution_count": 25,
   "metadata": {},
   "outputs": [],
   "source": [
    "import dash\n",
    "from dash.dependencies import Output, Input\n",
    "from dash import html, dcc\n",
    "import plotly\n",
    "import random\n",
    "import plotly.graph_objs as go\n",
    "from collections import deque\n",
    "from jupyter_dash import JupyterDash\n",
    "import numpy as np\n",
    "import os\n",
    "import pandas as pd\n",
    "from tqdm.notebook import tqdm\n",
    "import plotly.express as px\n"
   ]
  },
  {
   "cell_type": "code",
   "execution_count": 2,
   "metadata": {},
   "outputs": [
    {
     "data": {
      "application/vnd.jupyter.widget-view+json": {
       "model_id": "471202bcec254d7294a1f2bba32341bd",
       "version_major": 2,
       "version_minor": 0
      },
      "text/plain": [
       "0it [00:00, ?it/s]"
      ]
     },
     "metadata": {},
     "output_type": "display_data"
    }
   ],
   "source": [
    "# for every .dat file in folder indexed from 000001 to 001000 load each file via np.loadtxt)\n",
    "import pandas as pd\n",
    "data_dataframe = pd.DataFrame(columns=[\"I\", \"q\", \"t\"])\n",
    "data_directory = \"../data/C5_mesh_1_data.cbf/\"\n",
    "number_of_curves = 10\n",
    "drop_first = 1\n",
    "drop_last = 1\n",
    "cut_values_below = 0.8\n",
    "\n",
    "for i, datafile in tqdm(enumerate(list(sorted(os.listdir(data_directory)))[10:number_of_curves+10])):\n",
    "    if datafile.endswith(\".dat\"):\n",
    "        data = np.loadtxt(data_directory + \"/\" + datafile)\n",
    "        y_data = data[:,1][data[:,1] > cut_values_below][drop_last:-drop_first]\n",
    "        x_data = data[:,0][data[:,1] > cut_values_below][drop_last:-drop_first]\n",
    "        y_data[-1] = None\n",
    "        x_data[-1] = None\n",
    "        \n",
    "        new_curve = pd.DataFrame.from_dict({\n",
    "            'I': x_data,\n",
    "            'q': y_data,\n",
    "            't': [i]*(len(x_data))\n",
    "        })\n",
    "        data_dataframe = data_dataframe.append(new_curve, ignore_index=True)"
   ]
  },
  {
   "cell_type": "code",
   "execution_count": 16,
   "metadata": {},
   "outputs": [
    {
     "data": {
      "text/html": [
       "<div>\n",
       "<style scoped>\n",
       "    .dataframe tbody tr th:only-of-type {\n",
       "        vertical-align: middle;\n",
       "    }\n",
       "\n",
       "    .dataframe tbody tr th {\n",
       "        vertical-align: top;\n",
       "    }\n",
       "\n",
       "    .dataframe thead th {\n",
       "        text-align: right;\n",
       "    }\n",
       "</style>\n",
       "<table border=\"1\" class=\"dataframe\">\n",
       "  <thead>\n",
       "    <tr style=\"text-align: right;\">\n",
       "      <th></th>\n",
       "      <th>I</th>\n",
       "      <th>q</th>\n",
       "      <th>t</th>\n",
       "    </tr>\n",
       "  </thead>\n",
       "  <tbody>\n",
       "    <tr>\n",
       "      <th>0</th>\n",
       "      <td>0.003316</td>\n",
       "      <td>0.960315</td>\n",
       "      <td>0</td>\n",
       "    </tr>\n",
       "    <tr>\n",
       "      <th>1</th>\n",
       "      <td>0.005526</td>\n",
       "      <td>1.537391</td>\n",
       "      <td>0</td>\n",
       "    </tr>\n",
       "    <tr>\n",
       "      <th>2</th>\n",
       "      <td>0.007737</td>\n",
       "      <td>1.415441</td>\n",
       "      <td>0</td>\n",
       "    </tr>\n",
       "    <tr>\n",
       "      <th>3</th>\n",
       "      <td>0.009947</td>\n",
       "      <td>1.367398</td>\n",
       "      <td>0</td>\n",
       "    </tr>\n",
       "    <tr>\n",
       "      <th>4</th>\n",
       "      <td>0.012158</td>\n",
       "      <td>1.403521</td>\n",
       "      <td>0</td>\n",
       "    </tr>\n",
       "    <tr>\n",
       "      <th>...</th>\n",
       "      <td>...</td>\n",
       "      <td>...</td>\n",
       "      <td>...</td>\n",
       "    </tr>\n",
       "    <tr>\n",
       "      <th>8779</th>\n",
       "      <td>1.935255</td>\n",
       "      <td>0.805261</td>\n",
       "      <td>9</td>\n",
       "    </tr>\n",
       "    <tr>\n",
       "      <th>8780</th>\n",
       "      <td>1.937465</td>\n",
       "      <td>0.814659</td>\n",
       "      <td>9</td>\n",
       "    </tr>\n",
       "    <tr>\n",
       "      <th>8781</th>\n",
       "      <td>1.944096</td>\n",
       "      <td>0.800298</td>\n",
       "      <td>9</td>\n",
       "    </tr>\n",
       "    <tr>\n",
       "      <th>8782</th>\n",
       "      <td>1.950728</td>\n",
       "      <td>0.803140</td>\n",
       "      <td>9</td>\n",
       "    </tr>\n",
       "    <tr>\n",
       "      <th>8783</th>\n",
       "      <td>NaN</td>\n",
       "      <td>NaN</td>\n",
       "      <td>9</td>\n",
       "    </tr>\n",
       "  </tbody>\n",
       "</table>\n",
       "<p>8784 rows × 3 columns</p>\n",
       "</div>"
      ],
      "text/plain": [
       "             I         q  t\n",
       "0     0.003316  0.960315  0\n",
       "1     0.005526  1.537391  0\n",
       "2     0.007737  1.415441  0\n",
       "3     0.009947  1.367398  0\n",
       "4     0.012158  1.403521  0\n",
       "...        ...       ... ..\n",
       "8779  1.935255  0.805261  9\n",
       "8780  1.937465  0.814659  9\n",
       "8781  1.944096  0.800298  9\n",
       "8782  1.950728  0.803140  9\n",
       "8783       NaN       NaN  9\n",
       "\n",
       "[8784 rows x 3 columns]"
      ]
     },
     "execution_count": 16,
     "metadata": {},
     "output_type": "execute_result"
    }
   ],
   "source": [
    "data_dataframe"
   ]
  },
  {
   "cell_type": "code",
   "execution_count": 26,
   "metadata": {},
   "outputs": [],
   "source": [
    "X = deque(maxlen=20)\n",
    "X.append(1)\n",
    "Y = deque(maxlen=20)\n",
    "Y.append(1)\n",
    "Z = deque(maxlen=20)\n",
    "Z.append(1)"
   ]
  },
  {
   "cell_type": "code",
   "execution_count": 33,
   "metadata": {},
   "outputs": [
    {
     "name": "stdout",
     "output_type": "stream",
     "text": [
      "Dash app running on http://127.0.0.1:8050/\n"
     ]
    },
    {
     "ename": "",
     "evalue": "",
     "output_type": "error",
     "traceback": [
      "The Kernel crashed while executing code in the the current cell or a previous cell. Please review the code in the cell(s) to identify a possible cause of the failure. Click <a href='https://aka.ms/vscodeJupyterKernelCrash'>here</a> for more info. View Jupyter <a href='command:jupyter.viewOutput'>log</a> for further details."
     ]
    }
   ],
   "source": [
    "app = JupyterDash(__name__)\n",
    "app.layout = html.Div(\n",
    "    [\n",
    "        dcc.Graph(id='live-graph', animate=True),\n",
    "        dcc.Interval(\n",
    "            id='graph-update',\n",
    "            interval=1*1000,\n",
    "            n_intervals=0\n",
    "        ),\n",
    "    ]\n",
    ")\n",
    "\n",
    "@app.callback(Output('live-graph', 'figure'),\n",
    "              [Input('graph-update', 'n_intervals')])\n",
    "def update_graph_scatter(n_intervals):\n",
    "    #print(n_interval)\n",
    "    X.append(X[-1]+X[-1]*random.uniform(-0.5,0.5))\n",
    "    Y.append(Y[-1]+Y[-1]*random.uniform(-0.1,0.1))\n",
    "    Z.append(Z[-1]+1)\n",
    "    # for i, datafile in enumerate(list(sorted(os.listdir(data_directory)))[n_intervals:number_of_curves+n_intervals]):\n",
    "    #     if datafile.endswith(\".dat\"):\n",
    "    #         data = np.loadtxt(data_directory + \"/\" + datafile)\n",
    "    #         y_data = data[:,1][data[:,1] > cut_values_below][drop_last:-drop_first]\n",
    "    #         x_data = data[:,0][data[:,1] > cut_values_below][drop_last:-drop_first]\n",
    "    #         y_data[-1] = None\n",
    "    #         x_data[-1] = None\n",
    "            \n",
    "    #         new_curve = pd.DataFrame.from_dict({\n",
    "    #             'I': x_data,\n",
    "    #             'q': y_data,\n",
    "    #             't': [i]*(len(x_data))\n",
    "    #         })\n",
    "    #         data_dataframe = data_dataframe.append(new_curve, ignore_index=True)\n",
    "    df = pd.DataFrame.from_dict({\"X\": list(X), \"Y\": list(Y), \"Z\": list(Z)})\n",
    "    data = px.scatter_3d(\n",
    "            df,\n",
    "            x=\"X\",\n",
    "            y=\"Y\",\n",
    "            z=\"Z\",\n",
    "            color=\"Z\",\n",
    "            )\n",
    "    #counter+=1\n",
    "    return {'data': [data],'layout' : go.Layout()}\n",
    "# xaxis=dict(range=[min(X),max(X)]),\n",
    "# yaxis=dict(range=[min(Y),max(Y)]),\n",
    "# zaxis=dict(range=[min(Z),max(Z)])\n",
    "\n",
    "\n",
    "app.run_server(port=8050 ,debug=True)"
   ]
  },
  {
   "cell_type": "code",
   "execution_count": 1,
   "metadata": {},
   "outputs": [
    {
     "ename": "NameError",
     "evalue": "name 'random' is not defined",
     "output_type": "error",
     "traceback": [
      "\u001b[0;31m---------------------------------------------------------------------------\u001b[0m",
      "\u001b[0;31mNameError\u001b[0m                                 Traceback (most recent call last)",
      "\u001b[0;32m/var/folders/bh/q7z_19rs0wl0v6955b12l3d00000gn/T/ipykernel_21115/3012108694.py\u001b[0m in \u001b[0;36m<module>\u001b[0;34m\u001b[0m\n\u001b[0;32m----> 1\u001b[0;31m \u001b[0mrandom\u001b[0m\u001b[0;34m.\u001b[0m\u001b[0mrandn\u001b[0m\u001b[0;34m(\u001b[0m\u001b[0;36m10\u001b[0m\u001b[0;34m)\u001b[0m\u001b[0;34m\u001b[0m\u001b[0;34m\u001b[0m\u001b[0m\n\u001b[0m",
      "\u001b[0;31mNameError\u001b[0m: name 'random' is not defined"
     ]
    }
   ],
   "source": [
    "random.randn(10)"
   ]
  },
  {
   "cell_type": "code",
   "execution_count": null,
   "metadata": {},
   "outputs": [],
   "source": []
  }
 ],
 "metadata": {
  "kernelspec": {
   "display_name": "Python 3.9.7",
   "language": "python",
   "name": "python3"
  },
  "language_info": {
   "codemirror_mode": {
    "name": "ipython",
    "version": 3
   },
   "file_extension": ".py",
   "mimetype": "text/x-python",
   "name": "python",
   "nbconvert_exporter": "python",
   "pygments_lexer": "ipython3",
   "version": "3.9.7"
  },
  "orig_nbformat": 4,
  "vscode": {
   "interpreter": {
    "hash": "ff2b91f570a7a383be13c9a601871f0faee5a200eee03cd5809a45e19c47834d"
   }
  }
 },
 "nbformat": 4,
 "nbformat_minor": 2
}
