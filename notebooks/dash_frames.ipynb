{
 "cells": [
  {
   "cell_type": "code",
   "execution_count": 1,
   "metadata": {},
   "outputs": [],
   "source": [
    "import random\n",
    "import plotly.graph_objects as go\n",
    "import numpy as np\n",
    "import pandas as pd\n",
    "import dash\n",
    "import plotly.graph_objects as go\n",
    "from dash import html, dcc, ctx\n",
    "from jupyter_dash import JupyterDash\n",
    "from dash.dependencies import Output, Input\n",
    "import plotly\n",
    "import random\n",
    "import plotly.express as px\n",
    "import time"
   ]
  },
  {
   "cell_type": "code",
   "execution_count": 2,
   "metadata": {},
   "outputs": [],
   "source": [
    "s1 = go.Scatter3d(x=np.random.rand(100), y=np.random.rand(100), z=np.random.rand(100), mode='markers', marker=dict(size=12, color='rgb(255, 0, 0)', opacity=0.8))\n",
    "s2 = go.Scatter3d(x=np.random.rand(100), y=np.random.rand(100), z=np.random.rand(100), mode='markers', marker=dict(size=12, color='rgb(255, 0, 0)', opacity=0.8))\n",
    "s3 = go.Scatter3d(x=np.random.rand(100), y=np.random.rand(100), z=np.random.rand(100), mode='markers', marker=dict(size=12, color='rgb(255, 0, 0)', opacity=0.8))\n",
    "s4 = go.Scatter3d(x=np.random.rand(100), y=np.random.rand(100), z=np.random.rand(100), mode='markers', marker=dict(size=12, color='rgb(255, 0, 0)', opacity=0.8))\n",
    "# frames = [{'data': s1},\n",
    "#           {'data': s2},\n",
    "#           {'data': s3},\n",
    "#           {'data': s4}]"
   ]
  },
  {
   "cell_type": "code",
   "execution_count": 3,
   "metadata": {},
   "outputs": [
    {
     "name": "stdout",
     "output_type": "stream",
     "text": [
      "Dash app running on http://127.0.0.1:8050/\n"
     ]
    },
    {
     "ename": "",
     "evalue": "",
     "output_type": "error",
     "traceback": [
      "The Kernel crashed while executing code in the the current cell or a previous cell. Please review the code in the cell(s) to identify a possible cause of the failure. Click <a href='https://aka.ms/vscodeJupyterKernelCrash'>here</a> for more info. View Jupyter <a href='command:jupyter.viewOutput'>log</a> for further details."
     ]
    }
   ],
   "source": [
    "\n",
    "\n",
    "#frames = [{\"data\":[s1]},{\"data\":[s2]},{\"data\":[s3]},{\"data\":[s4]}]\n",
    "\n",
    "X = np.random.rand(100)\n",
    "Y = np.random.rand(100)\n",
    "Z = np.random.rand(100)\n",
    "\n",
    "import dash_daq as daq\n",
    "\n",
    "# fig = go.Figure(data=[s1],layout=go.Layout(\n",
    "#         xaxis=dict(range=[0, 16], autorange=False),\n",
    "#         yaxis=dict(range=[0, 13], autorange=False),\n",
    "#         hovermode=\"closest\",\n",
    "#         title=\"Start Title\"\n",
    "#     ))\n",
    "\n",
    "app = JupyterDash(__name__)\n",
    "app.layout = html.Div(\n",
    "    [\n",
    "        dcc.Graph(id='live-graph'),\n",
    "        dcc.Interval(\n",
    "            id='graph-update',\n",
    "            interval=1000,\n",
    "            n_intervals=0\n",
    "        ),\n",
    "        # html.Button('Stop', id='stop-button', n_clicks=0),\n",
    "        # html.Button('Start', id='start-button', n_clicks=0),\n",
    "        daq.BooleanSwitch(\n",
    "        id='update-switch',\n",
    "        on=True,\n",
    "        label=\"Label\",\n",
    "        labelPosition=\"top\"\n",
    "        )\n",
    "    ]\n",
    ")\n",
    "\n",
    "@app.callback(Output('live-graph', 'figure'),\n",
    "              [Input('graph-update', 'n_intervals')],\n",
    "              #Input('start-button', 'n_clicks'),\n",
    "              #Input('stop-button', 'n_clicks'))\n",
    "              Input('update-switch', 'on'))\n",
    "def update_graph_scatter(input_data, boolean_switch):\n",
    "    if (input_data is None) or boolean_switch:\n",
    "        return dash.no_update\n",
    "    # if 'stop-button' == ctx.triggered_id:\n",
    "        \n",
    "    # if 'start-button' == ctx.triggered_id:\n",
    "    # print(\"BUTTON CLICKED\")\n",
    "    # while True:\n",
    "    #     time.sleep(0.1)\n",
    "    # data = go.Scatter3d(\n",
    "    #     x = X,\n",
    "    #     y = Y + 0.1,\n",
    "    #     z = Z\n",
    "    # )\n",
    "    df = pd.DataFrame({'x': X, 'y': Y + np.random.rand(100), 'z': Z})\n",
    "    #fig = px.scatter_3d(df, x='x', y='y', z='z')\n",
    "    scatter = go.Scatter3d(x=df[\"x\"], y=df[\"y\"], z=df[\"z\"])\n",
    "    layout=go.Layout(uirevision=42) #'live-graph'\n",
    "    fig = go.Figure(data=scatter, layout=layout)\n",
    "    return fig\n",
    "\n",
    "app.run_server(port=8050)"
   ]
  },
  {
   "cell_type": "code",
   "execution_count": 21,
   "metadata": {},
   "outputs": [],
   "source": [
    "[{}].append({})"
   ]
  },
  {
   "cell_type": "code",
   "execution_count": 1,
   "metadata": {},
   "outputs": [],
   "source": [
    "!pip freeze > requirements.txt"
   ]
  },
  {
   "cell_type": "code",
   "execution_count": null,
   "metadata": {},
   "outputs": [],
   "source": []
  }
 ],
 "metadata": {
  "kernelspec": {
   "display_name": "Python 3.9.7",
   "language": "python",
   "name": "python3"
  },
  "language_info": {
   "codemirror_mode": {
    "name": "ipython",
    "version": 3
   },
   "file_extension": ".py",
   "mimetype": "text/x-python",
   "name": "python",
   "nbconvert_exporter": "python",
   "pygments_lexer": "ipython3",
   "version": "3.9.7"
  },
  "orig_nbformat": 4,
  "vscode": {
   "interpreter": {
    "hash": "ff2b91f570a7a383be13c9a601871f0faee5a200eee03cd5809a45e19c47834d"
   }
  }
 },
 "nbformat": 4,
 "nbformat_minor": 2
}
