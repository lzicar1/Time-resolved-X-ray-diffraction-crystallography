{
 "cells": [
  {
   "cell_type": "code",
   "execution_count": 1,
   "metadata": {},
   "outputs": [],
   "source": [
    "import random\n",
    "import plotly.graph_objects as go\n",
    "import numpy as np\n",
    "import pandas as pd\n",
    "import dash\n",
    "import plotly.graph_objects as go\n",
    "from dash import html, dcc, ctx\n",
    "from jupyter_dash import JupyterDash\n",
    "from dash.dependencies import Output, Input\n",
    "import plotly\n",
    "import random\n",
    "import plotly.express as px\n",
    "import time"
   ]
  },
  {
   "cell_type": "code",
   "execution_count": 38,
   "metadata": {},
   "outputs": [],
   "source": [
    "\n",
    "data_directory = \"../data/source\"\n",
    "\n",
    "number_of_curves = 10\n",
    "drop_first = 10\n",
    "drop_last = 10\n",
    "cut_values_below = 0.75"
   ]
  },
  {
   "cell_type": "markdown",
   "metadata": {},
   "source": [
    "## Helper functions"
   ]
  },
  {
   "cell_type": "code",
   "execution_count": 39,
   "metadata": {},
   "outputs": [],
   "source": [
    "import pandas as pd\n",
    "\n",
    "def get_trace(datafile_path, time=11):\n",
    "    # read data from single .dat file\n",
    "    data = np.loadtxt(datafile_path)\n",
    "    y_data = data[:,1][data[:,1] > cut_values_below][drop_last:-drop_first]\n",
    "    x_data = data[:,0][data[:,1] > cut_values_below][drop_last:-drop_first]\n",
    "    y_data[-1] = None\n",
    "    x_data[-1] = None\n",
    "    \n",
    "    new_curve = pd.DataFrame.from_dict({\n",
    "        'I': x_data,\n",
    "        'q': y_data,\n",
    "        't': [time]*(len(x_data))\n",
    "    })\n",
    "    \n",
    "    return new_curve"
   ]
  },
  {
   "cell_type": "code",
   "execution_count": 13,
   "metadata": {},
   "outputs": [
    {
     "name": "stdout",
     "output_type": "stream",
     "text": [
      "Requirement already satisfied: dash-core-components in /Users/miroslavlzicar/miniforge3/envs/tensorflow/lib/python3.9/site-packages (2.0.0)\n"
     ]
    }
   ],
   "source": [
    "!pip install dash-core-components --upgrade"
   ]
  },
  {
   "cell_type": "code",
   "execution_count": 36,
   "metadata": {},
   "outputs": [],
   "source": [
    "import plotly.graph_objects as go\n",
    "\n",
    "def figure_function(data_x, \n",
    "                    data_y, \n",
    "                    data_z, \n",
    "                    scale='linear', \n",
    "                    perspective='perspective',\n",
    "                    graph_style='lines'):\n",
    "    data = go.Scatter3d(\n",
    "    x=data_x,\n",
    "    y=data_y,\n",
    "    z=data_z,\n",
    "    mode=graph_style,\n",
    "    marker=dict(\n",
    "        color=data_z,\n",
    "        size=1.5,\n",
    "    ),\n",
    "    line=dict(\n",
    "        color=data_z,\n",
    "    ),\n",
    "    )\n",
    "\n",
    "    #mode = 'log' # log or linear\n",
    "\n",
    "    layout = go.Layout(\n",
    "        title='3D Scatter Plot from .dat files',\n",
    "        uirevision=True,\n",
    "        autosize=False,\n",
    "        scene=dict(\n",
    "            camera_projection_type=perspective,\n",
    "            xaxis=dict(\n",
    "                title='q_A^-1',\n",
    "                backgroundcolor=\"rgb(200, 200, 230)\",\n",
    "                            gridcolor=\"white\",\n",
    "                            showbackground=True,\n",
    "                            dtick=0.5,\n",
    "                type=scale\n",
    "            ),\n",
    "            yaxis=dict(\n",
    "                title='t',\n",
    "                \n",
    "                            backgroundcolor=\"rgb(230, 200,230)\",\n",
    "                            gridcolor=\"white\",\n",
    "                            showbackground=True,\n",
    "                #range=[1,20],\n",
    "                # rangeslider=dict(\n",
    "                #     visible=True\n",
    "                # )\n",
    "                autorange=True,\n",
    "                dtick=10,\n",
    "                type=scale\n",
    "                \n",
    "            ),\n",
    "            zaxis=dict(\n",
    "                title='I',\n",
    "                \n",
    "                            backgroundcolor=\"rgb(230, 230,200)\",\n",
    "                            gridcolor=\"white\",\n",
    "                            showbackground=True,\n",
    "                            dtick=0.5,\n",
    "                            type=scale\n",
    "                            \n",
    "            ),\n",
    "            \n",
    "            aspectmode=\"manual\", #data\n",
    "            aspectratio = dict(x=2, y=5, z=1)\n",
    "        ),\n",
    "        #autosize=True,\n",
    "        #width=800, #1200\n",
    "        #height=600, #800\n",
    "    )\n",
    "    fig = go.Figure(data=data, layout=layout)\n",
    "    fig.update_traces(connectgaps=False)\n",
    "\n",
    "    return fig"
   ]
  },
  {
   "cell_type": "markdown",
   "metadata": {},
   "source": [
    "## Main"
   ]
  },
  {
   "cell_type": "code",
   "execution_count": 37,
   "metadata": {},
   "outputs": [
    {
     "name": "stdout",
     "output_type": "stream",
     "text": [
      "Dash app running on http://127.0.0.1:8050/\n"
     ]
    }
   ],
   "source": [
    "import os\n",
    "\n",
    "datafiles = sorted(os.listdir(data_directory))\n",
    "#[k:number_of_curves+k]\n",
    "\n",
    "X = np.random.rand(100)\n",
    "Y = np.random.rand(100)\n",
    "Z = np.random.rand(100)\n",
    "\n",
    "import dash_daq as daq\n",
    "\n",
    "# fig = go.Figure(data=[s1],layout=go.Layout(\n",
    "#         xaxis=dict(range=[0, 16], autorange=False),\n",
    "#         yaxis=dict(range=[0, 13], autorange=False),\n",
    "#         hovermode=\"closest\",\n",
    "#         title=\"Start Title\"\n",
    "#     ))\n",
    "\n",
    "app = JupyterDash(__name__)\n",
    "app.layout = html.Div(\n",
    "    [\n",
    "        dcc.Graph(id='live-graph',\n",
    "                  style={'height':'80vh', 'width':'100vw'}),\n",
    "        dcc.Interval(\n",
    "            id='graph-update',\n",
    "            interval=1000,\n",
    "            n_intervals=0\n",
    "        ),\n",
    "        # html.Button('Stop', id='stop-button', n_clicks=0),\n",
    "        # html.Button('Start', id='start-button', n_clicks=0),\n",
    "        daq.BooleanSwitch(\n",
    "        id='update-switch',\n",
    "        on=False,\n",
    "        label=\"Pause to adjust\",\n",
    "        labelPosition=\"top\"\n",
    "        ),\n",
    "        # html.Div(children=[html.Div([\n",
    "        # html.Label(['Select Scale']), #style={'font-weight': 'bold', \"text-align\": \"right\",\"offset\":1}\n",
    "        \n",
    "        # ])]),\n",
    "        html.P(\"Scale\"),\n",
    "        dcc.Dropdown(\n",
    "            ['log', 'linear'],\n",
    "            'linear', \n",
    "            id='scale-dropdown'),\n",
    "        html.P(\"Perspective\"),\n",
    "        dcc.Dropdown(\n",
    "            ['perspective', 'orthographic'],\n",
    "            'perspective', \n",
    "            id='perspective-dropdown'),\n",
    "        html.P(\"Graph style\"),\n",
    "        dcc.Dropdown(\n",
    "            ['lines', 'markers', 'lines+markers', 'text'],\n",
    "            'lines', \n",
    "            id='style-dropdown'),\n",
    "        html.P(\"Number of curves\"),\n",
    "        dcc.Slider(id='slider_num_curves', min=1, max=100, step=10, value=30,\n",
    "                marks={x: str(x) for x in list(range(0,100,5))}),\n",
    "        html.P(\"Interval\"),\n",
    "        dcc.Slider(id='slider_interval', min=100, max=2000, step=200, value=1000,\n",
    "                marks={x: str(x) for x in list(range(0,2000,200))}),\n",
    "    ],\n",
    "        \n",
    ")\n",
    "\n",
    "@app.callback(\n",
    "    Output('graph-update', \"interval\"),\n",
    "    [Input('slider_interval', \"value\")]\n",
    ")\n",
    "def update_interval(value):\n",
    "    return value    \n",
    "\n",
    "\n",
    "@app.callback(Output('live-graph', 'figure'),\n",
    "              [Input('graph-update', 'n_intervals')],\n",
    "              #Input('start-button', 'n_clicks'),\n",
    "              #Input('stop-button', 'n_clicks'))\n",
    "              Input('update-switch', 'on'),\n",
    "              Input('scale-dropdown', 'value'),\n",
    "              Input('slider_num_curves', 'value'),\n",
    "            Input('perspective-dropdown', 'value'),\n",
    "            Input('style-dropdown', 'value')\n",
    "            )\n",
    "def update_graph_scatter(n_intervals, boolean_switch, scale, number_of_curves, perspective, style):\n",
    "    if (n_intervals is None) or boolean_switch:\n",
    "        return dash.no_update\n",
    "    \n",
    "    \n",
    "    data_dataframe = pd.DataFrame(columns=[\"I\", \"q\", \"t\"])\n",
    "    data_slice = datafiles[n_intervals:number_of_curves+n_intervals]\n",
    "    for i, datafile in enumerate(data_slice):\n",
    "        if datafile.endswith(\".dat\"):\n",
    "            datafile_path = os.path.join(data_directory, datafile)\n",
    "            new_curve = get_trace(datafile_path, time=i)\n",
    "            data_dataframe = data_dataframe.append(new_curve, ignore_index=True)\n",
    "    \n",
    "    X = data_dataframe['I']\n",
    "    Y = data_dataframe['t']\n",
    "    Z = data_dataframe['q']\n",
    "    \n",
    "    # scatter\n",
    "    \n",
    "    df = pd.DataFrame({'x': X, 'y': Y, 'z': Z})\n",
    "    #fig = px.scatter_3d(df, x='x', y='y', z='z')\n",
    "    # scatter = go.Scatter3d(x=df[\"x\"], y=df[\"y\"], z=df[\"z\"])\n",
    "    # layout=go.Layout(\n",
    "    #     scene=dict(\n",
    "    #         xaxis=dict(type=scale),\n",
    "    #         yaxis=dict(type=scale),\n",
    "    #         zaxis=dict(type=scale)\n",
    "    #         ),\n",
    "    #     uirevision=42) \n",
    "    # fig = go.Figure(data=scatter, layout=layout)\n",
    "    fig = figure_function(X, Y, Z, scale=scale, perspective=perspective, graph_style=style)\n",
    "    #fig.update(layout=go.Layout(uirevision=42))\n",
    "    #print(fig.camera_eye)\n",
    "    return fig\n",
    "\n",
    "app.run_server() #port=8050"
   ]
  },
  {
   "cell_type": "code",
   "execution_count": 3,
   "metadata": {},
   "outputs": [
    {
     "name": "stdout",
     "output_type": "stream",
     "text": [
      "Process on port 8050 killed\n"
     ]
    }
   ],
   "source": [
    "!npx kill-port 8050"
   ]
  },
  {
   "cell_type": "code",
   "execution_count": null,
   "metadata": {},
   "outputs": [],
   "source": []
  }
 ],
 "metadata": {
  "kernelspec": {
   "display_name": "Python 3.9.7",
   "language": "python",
   "name": "python3"
  },
  "language_info": {
   "codemirror_mode": {
    "name": "ipython",
    "version": 3
   },
   "file_extension": ".py",
   "mimetype": "text/x-python",
   "name": "python",
   "nbconvert_exporter": "python",
   "pygments_lexer": "ipython3",
   "version": "3.9.7"
  },
  "orig_nbformat": 4,
  "vscode": {
   "interpreter": {
    "hash": "ff2b91f570a7a383be13c9a601871f0faee5a200eee03cd5809a45e19c47834d"
   }
  }
 },
 "nbformat": 4,
 "nbformat_minor": 2
}
